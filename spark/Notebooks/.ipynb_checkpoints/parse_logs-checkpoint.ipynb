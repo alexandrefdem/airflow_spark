{
 "cells": [
  {
   "cell_type": "code",
   "execution_count": 1,
   "id": "cdc950f8",
   "metadata": {},
   "outputs": [
    {
     "name": "stderr",
     "output_type": "stream",
     "text": [
      "22/01/22 18:38:55 WARN NativeCodeLoader: Unable to load native-hadoop library for your platform... using builtin-java classes where applicable\n",
      "Using Spark's default log4j profile: org/apache/spark/log4j-defaults.properties\n",
      "Setting default log level to \"WARN\".\n",
      "To adjust logging level use sc.setLogLevel(newLevel). For SparkR, use setLogLevel(newLevel).\n"
     ]
    }
   ],
   "source": [
    "from pyspark.sql import SparkSession, Row\n",
    "import pyspark.sql.functions as f\n",
    "from pyspark.sql.functions import udf\n",
    "from pyspark.sql.types import StructType, StringType,StructField,TimestampType,DateType,IntegerType\n",
    "\n",
    "spark = SparkSession.\\\n",
    "        builder.\\\n",
    "        appName(\"pyspark-notebook\").\\\n",
    "        master(\"spark://spark-master:7077\").\\\n",
    "        config(\"spark.executor.extraClassPath\", \"/root/airflowmount/spark/connectors/mssql-jdbc-9.4.1.jre8.jar\").\\\n",
    "        config(\"spark.driver.extraClassPath\", \"/root/airflowmount/spark/connectors/mssql-jdbc-9.4.1.jre8.jar\").\\\n",
    "         config(\"spark.executor.memory\",'10g') .\\\n",
    "        getOrCreate()\n",
    "\n",
    "spark.sparkContext.addPyFile(\"/root/airflowmount/spark/dependencies/clfparser.zip\")\n",
    "spark.sparkContext.addPyFile(\"/root/airflowmount/spark/dependencies/clfparser-0.3-py3.10.egg-info.zip\")\n",
    "spark.sparkContext.addPyFile(\"/root/airflowmount/spark/dependencies/faker.zip\")\n",
    "spark.sparkContext.addPyFile(\"/root/airflowmount/spark/dependencies/Faker-11.3.0.dist-info.zip\")\n",
    "spark.sparkContext.addPyFile(\"/root/airflowmount/spark/dependencies/text_unidecode.zip\")\n",
    "spark.sparkContext.addPyFile(\"/root/airflowmount/spark/dependencies/six.py\")\n",
    "spark.sparkContext.addPyFile(\"/root/airflowmount/spark/dependencies/six-1.16.0.dist-info.zip\")\n",
    "spark.sparkContext.addPyFile(\"/root/airflowmount/spark/dependencies/random_user_agent.zip\")\n",
    "spark.sparkContext.addPyFile(\"/root/airflowmount/spark/dependencies/random_user_agent-1.0.1.dist-info.zip\")\n",
    "spark.sparkContext.addPyFile(\"/root/airflowmount/spark/dependencies/idna.zip\")\n",
    "spark.sparkContext.addPyFile(\"/root/airflowmount/spark/dependencies/charset_normalizer.zip\")\n",
    "spark.sparkContext.addPyFile(\"/root/airflowmount/spark/dependencies/urllib3.zip\")\n",
    "spark.sparkContext.addPyFile(\"/root/airflowmount/spark/dependencies/requests.zip\")\n",
    "spark.sparkContext.addPyFile(\"/root/airflowmount/spark/dependencies/certifi.zip\")\n",
    "spark.sparkContext.addPyFile(\"/root/airflowmount/spark/dependencies/colorama.zip\")\n",
    "spark.sparkContext.addPyFile(\"/root/airflowmount/spark/dependencies/tqdm.zip\")\n",
    "spark.sparkContext.addPyFile(\"/root/airflowmount/spark/dependencies/ua_parser.zip\")\n",
    "spark.sparkContext.addPyFile(\"/root/airflowmount/spark/dependencies/user_agents.zip\")\n",
    "spark.sparkContext.addPyFile(\"/root/airflowmount/spark/dependencies/country_list.zip\")"
   ]
  },
  {
   "cell_type": "code",
   "execution_count": 4,
   "id": "70aa395a",
   "metadata": {},
   "outputs": [
    {
     "ename": "AnalysisException",
     "evalue": "Path does not exist: file:/opt/storage/new_logs_2021;",
     "output_type": "error",
     "traceback": [
      "\u001b[0;31m---------------------------------------------------------------------------\u001b[0m",
      "\u001b[0;31mAnalysisException\u001b[0m                         Traceback (most recent call last)",
      "Input \u001b[0;32mIn [4]\u001b[0m, in \u001b[0;36m<module>\u001b[0;34m\u001b[0m\n\u001b[0;32m----> 1\u001b[0m df_logs \u001b[38;5;241m=\u001b[39m \u001b[43mspark\u001b[49m\u001b[38;5;241;43m.\u001b[39;49m\u001b[43mread\u001b[49m\u001b[38;5;241;43m.\u001b[39;49m\u001b[43mformat\u001b[49m\u001b[43m(\u001b[49m\u001b[38;5;124;43m'\u001b[39;49m\u001b[38;5;124;43mtext\u001b[39;49m\u001b[38;5;124;43m'\u001b[39;49m\u001b[43m)\u001b[49m\u001b[38;5;241;43m.\u001b[39;49m\u001b[43mload\u001b[49m\u001b[43m(\u001b[49m\u001b[38;5;124;43m'\u001b[39;49m\u001b[38;5;124;43m../../storage/new_logs_2021\u001b[39;49m\u001b[38;5;124;43m'\u001b[39;49m\u001b[43m)\u001b[49m\n",
      "File \u001b[0;32m/usr/local/lib/python3.9/dist-packages/pyspark/sql/readwriter.py:178\u001b[0m, in \u001b[0;36mDataFrameReader.load\u001b[0;34m(self, path, format, schema, **options)\u001b[0m\n\u001b[1;32m    176\u001b[0m \u001b[38;5;28mself\u001b[39m\u001b[38;5;241m.\u001b[39moptions(\u001b[38;5;241m*\u001b[39m\u001b[38;5;241m*\u001b[39moptions)\n\u001b[1;32m    177\u001b[0m \u001b[38;5;28;01mif\u001b[39;00m \u001b[38;5;28misinstance\u001b[39m(path, basestring):\n\u001b[0;32m--> 178\u001b[0m     \u001b[38;5;28;01mreturn\u001b[39;00m \u001b[38;5;28mself\u001b[39m\u001b[38;5;241m.\u001b[39m_df(\u001b[38;5;28;43mself\u001b[39;49m\u001b[38;5;241;43m.\u001b[39;49m\u001b[43m_jreader\u001b[49m\u001b[38;5;241;43m.\u001b[39;49m\u001b[43mload\u001b[49m\u001b[43m(\u001b[49m\u001b[43mpath\u001b[49m\u001b[43m)\u001b[49m)\n\u001b[1;32m    179\u001b[0m \u001b[38;5;28;01melif\u001b[39;00m path \u001b[38;5;129;01mis\u001b[39;00m \u001b[38;5;129;01mnot\u001b[39;00m \u001b[38;5;28;01mNone\u001b[39;00m:\n\u001b[1;32m    180\u001b[0m     \u001b[38;5;28;01mif\u001b[39;00m \u001b[38;5;28mtype\u001b[39m(path) \u001b[38;5;241m!=\u001b[39m \u001b[38;5;28mlist\u001b[39m:\n",
      "File \u001b[0;32m/usr/local/lib/python3.9/dist-packages/py4j/java_gateway.py:1304\u001b[0m, in \u001b[0;36mJavaMember.__call__\u001b[0;34m(self, *args)\u001b[0m\n\u001b[1;32m   1298\u001b[0m command \u001b[38;5;241m=\u001b[39m proto\u001b[38;5;241m.\u001b[39mCALL_COMMAND_NAME \u001b[38;5;241m+\u001b[39m\\\n\u001b[1;32m   1299\u001b[0m     \u001b[38;5;28mself\u001b[39m\u001b[38;5;241m.\u001b[39mcommand_header \u001b[38;5;241m+\u001b[39m\\\n\u001b[1;32m   1300\u001b[0m     args_command \u001b[38;5;241m+\u001b[39m\\\n\u001b[1;32m   1301\u001b[0m     proto\u001b[38;5;241m.\u001b[39mEND_COMMAND_PART\n\u001b[1;32m   1303\u001b[0m answer \u001b[38;5;241m=\u001b[39m \u001b[38;5;28mself\u001b[39m\u001b[38;5;241m.\u001b[39mgateway_client\u001b[38;5;241m.\u001b[39msend_command(command)\n\u001b[0;32m-> 1304\u001b[0m return_value \u001b[38;5;241m=\u001b[39m \u001b[43mget_return_value\u001b[49m\u001b[43m(\u001b[49m\n\u001b[1;32m   1305\u001b[0m \u001b[43m    \u001b[49m\u001b[43manswer\u001b[49m\u001b[43m,\u001b[49m\u001b[43m \u001b[49m\u001b[38;5;28;43mself\u001b[39;49m\u001b[38;5;241;43m.\u001b[39;49m\u001b[43mgateway_client\u001b[49m\u001b[43m,\u001b[49m\u001b[43m \u001b[49m\u001b[38;5;28;43mself\u001b[39;49m\u001b[38;5;241;43m.\u001b[39;49m\u001b[43mtarget_id\u001b[49m\u001b[43m,\u001b[49m\u001b[43m \u001b[49m\u001b[38;5;28;43mself\u001b[39;49m\u001b[38;5;241;43m.\u001b[39;49m\u001b[43mname\u001b[49m\u001b[43m)\u001b[49m\n\u001b[1;32m   1307\u001b[0m \u001b[38;5;28;01mfor\u001b[39;00m temp_arg \u001b[38;5;129;01min\u001b[39;00m temp_args:\n\u001b[1;32m   1308\u001b[0m     temp_arg\u001b[38;5;241m.\u001b[39m_detach()\n",
      "File \u001b[0;32m/usr/local/lib/python3.9/dist-packages/pyspark/sql/utils.py:137\u001b[0m, in \u001b[0;36mcapture_sql_exception.<locals>.deco\u001b[0;34m(*a, **kw)\u001b[0m\n\u001b[1;32m    133\u001b[0m converted \u001b[38;5;241m=\u001b[39m convert_exception(e\u001b[38;5;241m.\u001b[39mjava_exception)\n\u001b[1;32m    134\u001b[0m \u001b[38;5;28;01mif\u001b[39;00m \u001b[38;5;129;01mnot\u001b[39;00m \u001b[38;5;28misinstance\u001b[39m(converted, UnknownException):\n\u001b[1;32m    135\u001b[0m     \u001b[38;5;66;03m# Hide where the exception came from that shows a non-Pythonic\u001b[39;00m\n\u001b[1;32m    136\u001b[0m     \u001b[38;5;66;03m# JVM exception message.\u001b[39;00m\n\u001b[0;32m--> 137\u001b[0m     \u001b[43mraise_from\u001b[49m\u001b[43m(\u001b[49m\u001b[43mconverted\u001b[49m\u001b[43m)\u001b[49m\n\u001b[1;32m    138\u001b[0m \u001b[38;5;28;01melse\u001b[39;00m:\n\u001b[1;32m    139\u001b[0m     \u001b[38;5;28;01mraise\u001b[39;00m\n",
      "File \u001b[0;32m<string>:3\u001b[0m, in \u001b[0;36mraise_from\u001b[0;34m(e)\u001b[0m\n",
      "\u001b[0;31mAnalysisException\u001b[0m: Path does not exist: file:/opt/storage/new_logs_2021;"
     ]
    }
   ],
   "source": [
    "df_logs = spark.read.format('text').load('../storage/new_logs_2021')"
   ]
  },
  {
   "cell_type": "code",
   "execution_count": 38,
   "id": "c3cbb528",
   "metadata": {},
   "outputs": [],
   "source": [
    "from clfparser import CLFParser\n",
    "from datetime import datetime\n",
    "\n",
    "def get_ip(logRecord):\n",
    "    clfDict=CLFParser.logDict(logRecord)\n",
    "    return clfDict['h']\n",
    "\n",
    "def get_useragent(logRecord):\n",
    "    clfDict=CLFParser.logDict(logRecord)\n",
    "    return clfDict['Useragent']\n",
    "\n",
    "def get_username(logRecord):\n",
    "    clfDict=CLFParser.logDict(logRecord)\n",
    "    return clfDict['u']\n",
    "\n",
    "def get_time(logRecord):\n",
    "    clfDict=CLFParser.logDict(logRecord)\n",
    "    if isinstance(clfDict['time'],datetime):\n",
    "        time =  clfDict['time'].strftime(\"'%Y-%m-%d %H:%M:%S'\").replace(\"'\",\"\")\n",
    "    else:\n",
    "        time = '1950-01-01 00:00:00'\n",
    "    return time\n",
    "#\n",
    "\n",
    "get_ip_udf = udf(get_ip,StringType())\n",
    "get_useragent_udf = udf(get_useragent,StringType())\n",
    "get_username_udf = udf(get_username,StringType())\n",
    "get_time_udf = udf(get_time,StringType())"
   ]
  },
  {
   "cell_type": "code",
   "execution_count": 39,
   "id": "0c1ed5d1",
   "metadata": {},
   "outputs": [
    {
     "data": {
      "text/plain": [
       "100000"
      ]
     },
     "execution_count": 39,
     "metadata": {},
     "output_type": "execute_result"
    }
   ],
   "source": [
    "df_complete = df_logs\\\n",
    "                .withColumn('ipaddr',get_ip_udf(f.col('value')))\\\n",
    "                .withColumn('useragent',get_useragent_udf(f.col('value')))\\\n",
    "                .withColumn('username',get_username_udf(f.col('value')))\\\n",
    "                .withColumn('time',f.to_timestamp(get_time_udf(f.col('value'))))\n",
    "df_complete.count()"
   ]
  },
  {
   "cell_type": "code",
   "execution_count": 42,
   "id": "2b6f4c77",
   "metadata": {},
   "outputs": [],
   "source": [
    "#remove where was not possible to parse the date assigning a specific datetime and then filtering out\n",
    "df_complete_processed = df_complete.where(\"time != '1950-01-01 00:00:00'\")"
   ]
  },
  {
   "cell_type": "code",
   "execution_count": 43,
   "id": "81f9cfff",
   "metadata": {},
   "outputs": [
    {
     "name": "stderr",
     "output_type": "stream",
     "text": [
      "                                                                                \r"
     ]
    },
    {
     "data": {
      "text/plain": [
       "99992"
      ]
     },
     "execution_count": 43,
     "metadata": {},
     "output_type": "execute_result"
    }
   ],
   "source": [
    "df_complete_processed.count()"
   ]
  },
  {
   "cell_type": "code",
   "execution_count": 45,
   "id": "bc8f5eaf",
   "metadata": {},
   "outputs": [],
   "source": [
    "df_countries = spark.read.format('text').load('/opt/workspace/spark/assets/country_list.csv').collect()\n",
    "country_list = [x[0] for x in df_countries]"
   ]
  },
  {
   "cell_type": "code",
   "execution_count": 46,
   "id": "655ae5e6",
   "metadata": {},
   "outputs": [],
   "source": [
    "# Code for getting geolocations for ip - 15k requests per hour - 1 ip per request\n",
    "# Since it's very slow on free plans, a dummy list was used to return the country's IP\n",
    "\n",
    "import requests\n",
    "from tqdm import tqdm\n",
    "import time\n",
    "from random import randrange\n",
    "\n",
    "def get_geolocation_df(loaded_ips, dummy = True):\n",
    "    if dummy == False:\n",
    "        get_rows = map(lambda row: row.asDict(), loaded_ips.collect())\n",
    "        iplist = [l['ipaddr'] for l in get_rows]\n",
    "        response = []\n",
    "        for i in tqdm(iplist):\n",
    "            r = requests.get(f'https://api.freegeoip.app/json/{i}?apikey=6d86c060-7a44-11ec-b2aa-d3ef4e25c562').json()\n",
    "            time.sleep(0.12)\n",
    "            response.append(r)\n",
    "        #payload = [l for l in get_rows]\n",
    "        #response = requests.post(\"http://ip-api.com/batch\", json=payload).json()\n",
    "    else:\n",
    "        get_rows = map(lambda row: row.asDict(), loaded_ips.collect())\n",
    "        iplist = [l['ipaddr'] for l in get_rows]\n",
    "        response = []\n",
    "        for i in tqdm(iplist):\n",
    "            response.append({'country_name':country_list[randrange(0,len(country_list))] , 'ip':i})\n",
    "    return response"
   ]
  },
  {
   "cell_type": "code",
   "execution_count": 47,
   "id": "cf39cb6a",
   "metadata": {},
   "outputs": [
    {
     "name": "stderr",
     "output_type": "stream",
     "text": [
      "100%|██████████| 100000/100000 [00:00<00:00, 356444.52it/s]                     \n"
     ]
    }
   ],
   "source": [
    "#Get ips from the logs \n",
    "loaded_ips = df_complete.select(f.col('ipaddr'))\n",
    "\n",
    "#Run API to get country information\n",
    "geolocation_dict = get_geolocation_df(loaded_ips)\n",
    "\n",
    "geoschema = StructType([       \n",
    "        StructField('country_name', StringType(), True),\n",
    "        StructField('ip', StringType(), True)\n",
    "    ])\n",
    "\n",
    "#Build Dataframe from returned dict\n",
    "df_geo = spark.createDataFrame(data=geolocation_dict,schema=geoschema)"
   ]
  },
  {
   "cell_type": "code",
   "execution_count": 48,
   "id": "e58b8cbb",
   "metadata": {},
   "outputs": [
    {
     "name": "stderr",
     "output_type": "stream",
     "text": [
      "                                                                                \r"
     ]
    },
    {
     "name": "stdout",
     "output_type": "stream",
     "text": [
      "+---------------+----------------+--------------------+---------------+\n",
      "|         ipaddr|        username|        country_name|             ip|\n",
      "+---------------+----------------+--------------------+---------------+\n",
      "| 205.65.201.110|  angelayang9276|Taiwan, Province ...| 205.65.201.110|\n",
      "|189.236.221.171|    jadayang4253|         Guernsey,GG|189.236.221.171|\n",
      "| 111.102.32.190| kimberlyyang637|            Qatar,QA| 111.102.32.190|\n",
      "| 155.76.172.121|  samuelyang4897|        Gibraltar,GI| 155.76.172.121|\n",
      "| 193.27.201.242|  robertyang4114|         Thailand,TH| 193.27.201.242|\n",
      "| 130.115.255.88|nathanielyang868|         Honduras,HN| 130.115.255.88|\n",
      "|   35.161.9.163|   faithyang4609|       Bangladesh,BD|   35.161.9.163|\n",
      "| 164.10.176.170|   tashayang7488|            Libya,LY| 164.10.176.170|\n",
      "| 211.122.62.233|    adamyang6526|            Haiti,HT| 211.122.62.233|\n",
      "|  158.203.37.26|  dwayneyang6289|          Austria,AT|  158.203.37.26|\n",
      "|  70.195.163.83|    philyang8961|          Austria,AT|  70.195.163.83|\n",
      "|112.125.148.151|    emmayang7351|            Benin,BJ|112.125.148.151|\n",
      "|   6.76.240.192|   mariayang7073|           Cyprus,CY|   6.76.240.192|\n",
      "| 14.125.164.111|  gloriayang1326|            Samoa,WS| 14.125.164.111|\n",
      "| 37.146.124.250|  jessicayang936|Bosnia and Herzeg...| 37.146.124.250|\n",
      "|  195.30.127.28|    sarayang7400|Brunei Darussalam,BN|  195.30.127.28|\n",
      "| 64.104.125.112|    andyyang6342|          Grenada,GD| 64.104.125.112|\n",
      "|172.192.174.136|    ericyang7656|         Ethiopia,ET|172.192.174.136|\n",
      "|   169.88.236.6|  alexisyang4245|     Turkmenistan,TM|   169.88.236.6|\n",
      "|   29.38.127.91|   mindyyang4201|        Australia,AU|   29.38.127.91|\n",
      "+---------------+----------------+--------------------+---------------+\n",
      "only showing top 20 rows\n",
      "\n"
     ]
    }
   ],
   "source": [
    "#Get country ip addres on df\n",
    "df_country_ip = df_complete.select('ipaddr','username').alias('c').join(df_geo.select('country_name','ip'),df_complete.ipaddr == df_geo.ip,'left')\n",
    "df_country_ip.show()"
   ]
  },
  {
   "cell_type": "code",
   "execution_count": 70,
   "id": "def77f17",
   "metadata": {},
   "outputs": [
    {
     "name": "stderr",
     "output_type": "stream",
     "text": [
      "[Stage 102:>                                                        (0 + 8) / 8]\r"
     ]
    },
    {
     "name": "stdout",
     "output_type": "stream",
     "text": [
      "+---------------+----------------+-------------------+--------------------+--------------------+\n",
      "|         ipaddr|        username|               time|        country_name|           useragent|\n",
      "+---------------+----------------+-------------------+--------------------+--------------------+\n",
      "|   1.110.88.196|    luisyang6335|2021-01-11 09:01:30|            Japan,JP|\"Mozilla/5.0 (Mac...|\n",
      "|   1.25.153.124|    adamyang3251|2021-03-19 02:03:21|           Guinea,GN|\"Mozilla/5.0 (Win...|\n",
      "|   100.12.36.97| janelleyang4356|2021-04-27 14:04:29|        Argentina,AR|\"Mozilla/5.0 (Win...|\n",
      "| 100.158.15.222|    erinyang4951|2021-06-19 04:06:01|          Tokelau,TK|\"Mozilla/5.0 (Win...|\n",
      "|   101.71.73.41|victoriayang2705|2021-02-18 06:02:01|      Afghanistan,AF|\"Mozilla/5.0 (Mac...|\n",
      "|102.149.129.195| madisonyang3574|2021-04-14 03:04:30|       Cape Verde,CV|\"Mozilla/5.0 (Win...|\n",
      "| 102.238.214.82|  andreayang7776|2021-02-17 15:02:59|Equatorial Guinea,GQ|\"Mozilla/5.0 (Win...|\n",
      "|  102.76.192.60|  javieryang5157|2021-09-23 04:09:21|         Bulgaria,BG|\"Mozilla/5.0 (Mac...|\n",
      "|  103.139.24.32|   mistyyang1458|2021-01-31 15:01:55|          Albania,AL|\"Mozilla/5.0 (Win...|\n",
      "|  103.234.94.39| prestonyang1331|2021-04-23 22:04:35|Trinidad and Toba...|\"Mozilla/5.0 (Win...|\n",
      "+---------------+----------------+-------------------+--------------------+--------------------+\n",
      "only showing top 10 rows\n",
      "\n"
     ]
    },
    {
     "name": "stderr",
     "output_type": "stream",
     "text": [
      "                                                                                \r"
     ]
    }
   ],
   "source": [
    "#Df complete with ipaddr and contry\n",
    "df_with_country = df_complete.alias('dfc').join(df_country_ip.alias('dfcip'),f.col('dfc.ipaddr') == f.col('dfcip.ipaddr'), 'left')\\\n",
    ".select('dfc.ipaddr','dfc.username','dfc.time','dfcip.country_name','dfc.useragent')\n",
    "df_with_country.show(10)"
   ]
  },
  {
   "cell_type": "code",
   "execution_count": 71,
   "id": "75749486",
   "metadata": {},
   "outputs": [],
   "source": [
    "#Get device info from useragent\n",
    "from user_agents import parse \n",
    "\n",
    "def get_os_family(useragent):\n",
    "    return parse(useragent).os.family\n",
    "\n",
    "def get_is_mobile(useragent):\n",
    "    return int(parse(useragent).is_mobile)\n",
    "\n",
    "def get_is_pc(useragent):\n",
    "    return int(parse(useragent).is_pc)\n",
    "\n",
    "def get_is_tablet(useragent):\n",
    "    return int(parse(useragent).is_tablet)\n",
    "\n",
    "get_os_family_udf = udf(get_os_family,StringType())\n",
    "get_is_mobile_udf = udf(get_is_mobile,IntegerType())\n",
    "get_is_pc_udf = udf(get_is_pc,IntegerType())\n",
    "get_is_tablet_udf = udf(get_is_tablet,IntegerType())"
   ]
  },
  {
   "cell_type": "code",
   "execution_count": 72,
   "id": "fa98a1eb",
   "metadata": {},
   "outputs": [],
   "source": [
    "df_final = df_with_country.withColumn('device',get_os_family_udf('useragent')) \\\n",
    "                                 .withColumn('is_mobile',get_is_mobile_udf('useragent')) \\\n",
    "                                 .withColumn('is_pc',get_is_pc_udf('useragent')) \\\n",
    "                                 .withColumn('is_tablet',get_is_tablet_udf('useragent'))"
   ]
  },
  {
   "cell_type": "code",
   "execution_count": 73,
   "id": "a8b87c42",
   "metadata": {},
   "outputs": [
    {
     "name": "stderr",
     "output_type": "stream",
     "text": [
      "[Stage 107:>                                                        (0 + 1) / 1]\r"
     ]
    },
    {
     "name": "stdout",
     "output_type": "stream",
     "text": [
      "+---------------+-----------------+-------------------+--------------------+--------------------+--------+---------+-----+---------+\n",
      "|         ipaddr|         username|               time|        country_name|           useragent|  device|is_mobile|is_pc|is_tablet|\n",
      "+---------------+-----------------+-------------------+--------------------+--------------------+--------+---------+-----+---------+\n",
      "|   1.110.88.196|     luisyang6335|2021-01-11 09:01:30|            Japan,JP|\"Mozilla/5.0 (Mac...|Mac OS X|        0|    1|        0|\n",
      "|   1.25.153.124|     adamyang3251|2021-03-19 02:03:21|           Guinea,GN|\"Mozilla/5.0 (Win...| Windows|        0|    1|        0|\n",
      "|   100.12.36.97|  janelleyang4356|2021-04-27 14:04:29|        Argentina,AR|\"Mozilla/5.0 (Win...| Windows|        0|    1|        0|\n",
      "| 100.158.15.222|     erinyang4951|2021-06-19 04:06:01|          Tokelau,TK|\"Mozilla/5.0 (Win...| Windows|        0|    1|        0|\n",
      "|   101.71.73.41| victoriayang2705|2021-02-18 06:02:01|      Afghanistan,AF|\"Mozilla/5.0 (Mac...|Mac OS X|        0|    1|        0|\n",
      "|102.149.129.195|  madisonyang3574|2021-04-14 03:04:30|       Cape Verde,CV|\"Mozilla/5.0 (Win...| Windows|        0|    1|        0|\n",
      "| 102.238.214.82|   andreayang7776|2021-02-17 15:02:59|Equatorial Guinea,GQ|\"Mozilla/5.0 (Win...| Windows|        0|    1|        0|\n",
      "|  102.76.192.60|   javieryang5157|2021-09-23 04:09:21|         Bulgaria,BG|\"Mozilla/5.0 (Mac...|Mac OS X|        0|    1|        0|\n",
      "|  103.139.24.32|    mistyyang1458|2021-01-31 15:01:55|          Albania,AL|\"Mozilla/5.0 (Win...| Windows|        0|    1|        0|\n",
      "|  103.234.94.39|  prestonyang1331|2021-04-23 22:04:35|Trinidad and Toba...|\"Mozilla/5.0 (Win...| Windows|        0|    1|        0|\n",
      "|  103.87.162.29|    wyattyang6430|2021-12-07 00:12:42|    United States,US|\"Mozilla/5.0 (Mac...|Mac OS X|        0|    1|        0|\n",
      "| 104.118.15.150|    rubenyang1590|2021-06-06 19:06:57|          Jamaica,JM|\"Mozilla/5.0 (com...| Windows|        0|    1|        0|\n",
      "|  104.50.183.49|   angelayang1846|2021-05-09 07:05:58|         Pitcairn,PN|\"Mozilla/5.0 (Win...| Windows|        0|    1|        0|\n",
      "| 106.105.198.47|     devinyang685|2021-12-12 18:12:26|Korea, Democratic...|\"Mozilla/5.0 (Win...| Windows|        0|    1|        0|\n",
      "| 106.122.18.235|    sarahyang2856|2021-11-18 02:11:55|Syrian Arab Repub...|\"Mozilla/5.0 (Lin...| Android|        1|    0|        0|\n",
      "|106.159.207.219|christineyang3815|2021-07-21 15:07:55|      Isle of Man,IM|\"Mozilla/5.0 (Mac...|Mac OS X|        0|    1|        0|\n",
      "|106.225.178.168|   xavieryang4169|2021-04-17 05:04:59|          Iceland,IS|\"Mozilla/5.0 (Win...| Windows|        0|    1|        0|\n",
      "|  107.129.50.65|     raulyang5273|2021-12-04 20:12:34|           Sweden,SE|\"Mozilla/4.0 (com...| Windows|        0|    1|        0|\n",
      "| 107.139.58.234|   kristayang5746|2021-05-08 00:05:58|            Malta,MT|\"Mozilla/5.0 (Win...| Windows|        0|    1|        0|\n",
      "| 107.210.35.214|     jillyang6839|2021-01-12 14:01:31|        Australia,AU|\"Mozilla/5.0 (Win...| Windows|        0|    1|        0|\n",
      "+---------------+-----------------+-------------------+--------------------+--------------------+--------+---------+-----+---------+\n",
      "only showing top 20 rows\n",
      "\n"
     ]
    },
    {
     "name": "stderr",
     "output_type": "stream",
     "text": [
      "                                                                                \r"
     ]
    }
   ],
   "source": [
    "df_final.show()"
   ]
  },
  {
   "cell_type": "code",
   "execution_count": 74,
   "id": "22b2557e",
   "metadata": {},
   "outputs": [],
   "source": [
    "#Setup connection to staging db\n",
    "server_name = \"jdbc:sqlserver://host.docker.internal\"\n",
    "database_name = \"Staging\"\n",
    "url = server_name + \";\" + \"databaseName=\" + database_name + \";\"\n",
    "\n",
    "table_name = \"Logs\"\n",
    "username = \"sa\"\n",
    "password = \"toptal\""
   ]
  },
  {
   "cell_type": "code",
   "execution_count": 76,
   "id": "42c82122",
   "metadata": {},
   "outputs": [
    {
     "name": "stderr",
     "output_type": "stream",
     "text": [
      "                                                                                \r"
     ]
    }
   ],
   "source": [
    "#Write to staging\n",
    "df_final.drop('useragent')\\\n",
    "        .write\\\n",
    "        .format('jdbc')\\\n",
    "        .mode('overwrite')\\\n",
    "        .option(\"url\", url) \\\n",
    "        .option(\"port\", 1533)\\\n",
    "        .option(\"dbtable\",table_name) \\\n",
    "        .option(\"user\", username) \\\n",
    "        .option(\"password\", password) \\\n",
    "        .save()"
   ]
  }
 ],
 "metadata": {
  "kernelspec": {
   "display_name": "Python 3 (ipykernel)",
   "language": "python",
   "name": "python3"
  },
  "language_info": {
   "codemirror_mode": {
    "name": "ipython",
    "version": 3
   },
   "file_extension": ".py",
   "mimetype": "text/x-python",
   "name": "python",
   "nbconvert_exporter": "python",
   "pygments_lexer": "ipython3",
   "version": "3.9.2"
  }
 },
 "nbformat": 4,
 "nbformat_minor": 5
}
